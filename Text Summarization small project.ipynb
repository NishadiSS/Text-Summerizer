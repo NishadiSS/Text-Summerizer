{
 "cells": [
  {
   "cell_type": "markdown",
   "id": "9d16aaaf",
   "metadata": {},
   "source": [
    "## import Modules"
   ]
  },
  {
   "cell_type": "code",
   "execution_count": 19,
   "id": "acc26e72",
   "metadata": {},
   "outputs": [],
   "source": [
    "from nltk.corpus import stopwords\n",
    "from nltk.tokenize import word_tokenize, sent_tokenize\n",
    "import nltk"
   ]
  },
  {
   "cell_type": "markdown",
   "id": "0d7f9c4b",
   "metadata": {},
   "source": [
    "## Download NLTK Resources"
   ]
  },
  {
   "cell_type": "code",
   "execution_count": 20,
   "id": "64b020cb",
   "metadata": {},
   "outputs": [
    {
     "name": "stderr",
     "output_type": "stream",
     "text": [
      "[nltk_data] Downloading package stopwords to\n",
      "[nltk_data]     C:\\Users\\Nishadi\\AppData\\Roaming\\nltk_data...\n",
      "[nltk_data]   Package stopwords is already up-to-date!\n",
      "[nltk_data] Downloading package punkt to\n",
      "[nltk_data]     C:\\Users\\Nishadi\\AppData\\Roaming\\nltk_data...\n",
      "[nltk_data]   Package punkt is already up-to-date!\n"
     ]
    },
    {
     "data": {
      "text/plain": [
       "True"
      ]
     },
     "execution_count": 20,
     "metadata": {},
     "output_type": "execute_result"
    }
   ],
   "source": [
    "nltk.download('stopwords')\n",
    "nltk.download('punkt')"
   ]
  },
  {
   "cell_type": "markdown",
   "id": "389996dc",
   "metadata": {},
   "source": [
    "## Preparing Text"
   ]
  },
  {
   "cell_type": "code",
   "execution_count": 24,
   "id": "258b29e1",
   "metadata": {},
   "outputs": [],
   "source": [
    "text=\"Cricket, a bat-and-ball game, is one of the most popular sports globally, particularly in Commonwealth nations like England, India, Australia, and Pakistan. It involves two teams of eleven players each competing to score more runs than the other. Played on a cricket field at the center of which is a 22-yard pitch with a wicket at each end, the game's basic structure revolves around a batsman striking a bowled ball with a bat, attempting to score runs by running between the wickets or hitting the ball to the boundary for four runs. The fielding team aims to dismiss the batsmen by hitting the wickets with the ball, catching the ball after it is hit, or running a batsman out before reaching the wicket. Each innings, or turn to bat, ends when ten batsmen are dismissed, and the team with the higher score at the end of the match wins. Cricket matches vary in length, ranging from short T20 matches to five-day Test matches, the pinnacle of the sport. Cricket's global appeal stems from its combination of physical skill, strategic tactics, and cultural significance, making it a truly beloved sport that transcends borders and unites people from all walks of life.\"\n"
   ]
  },
  {
   "cell_type": "markdown",
   "id": "380672de",
   "metadata": {},
   "source": [
    "## Identifying Stop Words"
   ]
  },
  {
   "cell_type": "code",
   "execution_count": 25,
   "id": "ef8cbf56",
   "metadata": {},
   "outputs": [
    {
     "name": "stdout",
     "output_type": "stream",
     "text": [
      "{'it', 'd', \"hasn't\", 'itself', \"you've\", 'herself', 'whom', 'do', 'the', 'hasn', 'needn', 'we', 'this', 'where', 'not', 'her', \"mightn't\", \"needn't\", 'more', 'couldn', \"mustn't\", \"hadn't\", 'mightn', 'and', 'in', \"didn't\", 'under', 'than', 'that', 'shan', 'there', \"couldn't\", 'ourselves', 'from', 'my', 'then', 'very', 'other', 'any', 'further', 'was', 'on', 'most', 'too', 'if', 'ain', 'between', 'own', 'over', 'being', 'against', 'll', 'at', 'why', 'can', 'of', 'won', 'did', 'out', 'down', 'does', 'during', 'don', 'his', 'wasn', \"wasn't\", 'doing', 'yours', 'ours', 'having', 'you', 'with', 'myself', \"shan't\", 'wouldn', \"weren't\", 'themselves', 'when', 'were', 'both', 'nor', 're', 'mustn', 'our', 'which', 'to', 'been', 'through', 'same', 'i', 'shouldn', 'such', 'below', 'its', 'up', 'above', 'no', 'am', 't', \"you'll\", \"you'd\", 'but', 's', 'once', 'because', \"you're\", 'has', 'until', 'here', 'haven', 'before', 'them', 'm', 'about', 'few', 'into', 'each', 'doesn', 'hadn', 'ma', 'after', 'o', 'for', 'be', 'so', 'isn', 'weren', 'those', 'an', 'while', 'just', 'will', \"shouldn't\", 'all', 'she', 'now', \"aren't\", \"doesn't\", 'as', 'some', 'is', 'off', 've', \"should've\", \"don't\", 'your', \"won't\", 'their', 'how', 'they', 'yourselves', 'theirs', 'me', 'he', \"wouldn't\", 'are', \"isn't\", \"that'll\", \"she's\", 'didn', 'have', 'again', 'him', 'these', 'y', 'aren', 'only', 'yourself', 'who', 'a', 'by', 'hers', 'or', \"haven't\", 'what', \"it's\", 'himself', 'should', 'had'}\n"
     ]
    }
   ],
   "source": [
    "stopWords = set(stopwords.words(\"english\"))\n",
    "print(stopWords)"
   ]
  },
  {
   "cell_type": "markdown",
   "id": "abbb5964",
   "metadata": {},
   "source": [
    "## Tokenizing Text"
   ]
  },
  {
   "cell_type": "code",
   "execution_count": 26,
   "id": "88815a3a",
   "metadata": {},
   "outputs": [
    {
     "name": "stdout",
     "output_type": "stream",
     "text": [
      "['Cricket', ',', 'a', 'bat-and-ball', 'game', ',', 'is', 'one', 'of', 'the', 'most', 'popular', 'sports', 'globally', ',', 'particularly', 'in', 'Commonwealth', 'nations', 'like', 'England', ',', 'India', ',', 'Australia', ',', 'and', 'Pakistan', '.', 'It', 'involves', 'two', 'teams', 'of', 'eleven', 'players', 'each', 'competing', 'to', 'score', 'more', 'runs', 'than', 'the', 'other', '.', 'Played', 'on', 'a', 'cricket', 'field', 'at', 'the', 'center', 'of', 'which', 'is', 'a', '22-yard', 'pitch', 'with', 'a', 'wicket', 'at', 'each', 'end', ',', 'the', 'game', \"'s\", 'basic', 'structure', 'revolves', 'around', 'a', 'batsman', 'striking', 'a', 'bowled', 'ball', 'with', 'a', 'bat', ',', 'attempting', 'to', 'score', 'runs', 'by', 'running', 'between', 'the', 'wickets', 'or', 'hitting', 'the', 'ball', 'to', 'the', 'boundary', 'for', 'four', 'runs', '.', 'The', 'fielding', 'team', 'aims', 'to', 'dismiss', 'the', 'batsmen', 'by', 'hitting', 'the', 'wickets', 'with', 'the', 'ball', ',', 'catching', 'the', 'ball', 'after', 'it', 'is', 'hit', ',', 'or', 'running', 'a', 'batsman', 'out', 'before', 'reaching', 'the', 'wicket', '.', 'Each', 'innings', ',', 'or', 'turn', 'to', 'bat', ',', 'ends', 'when', 'ten', 'batsmen', 'are', 'dismissed', ',', 'and', 'the', 'team', 'with', 'the', 'higher', 'score', 'at', 'the', 'end', 'of', 'the', 'match', 'wins', '.', 'Cricket', 'matches', 'vary', 'in', 'length', ',', 'ranging', 'from', 'short', 'T20', 'matches', 'to', 'five-day', 'Test', 'matches', ',', 'the', 'pinnacle', 'of', 'the', 'sport', '.', 'Cricket', \"'s\", 'global', 'appeal', 'stems', 'from', 'its', 'combination', 'of', 'physical', 'skill', ',', 'strategic', 'tactics', ',', 'and', 'cultural', 'significance', ',', 'making', 'it', 'a', 'truly', 'beloved', 'sport', 'that', 'transcends', 'borders', 'and', 'unites', 'people', 'from', 'all', 'walks', 'of', 'life', '.']\n"
     ]
    }
   ],
   "source": [
    "words = word_tokenize(text)\n",
    "print(words)"
   ]
  },
  {
   "cell_type": "markdown",
   "id": "46f4f954",
   "metadata": {},
   "source": [
    "## Creating Word Frequency Table"
   ]
  },
  {
   "cell_type": "code",
   "execution_count": 27,
   "id": "2ee9dbf9",
   "metadata": {},
   "outputs": [
    {
     "name": "stdout",
     "output_type": "stream",
     "text": [
      "{'cricket': 4, ',': 18, 'bat-and-ball': 1, 'game': 2, 'one': 1, 'popular': 1, 'sports': 1, 'globally': 1, 'particularly': 1, 'commonwealth': 1, 'nations': 1, 'like': 1, 'england': 1, 'india': 1, 'australia': 1, 'pakistan': 1, '.': 7, 'involves': 1, 'two': 1, 'teams': 1, 'eleven': 1, 'players': 1, 'competing': 1, 'score': 3, 'runs': 3, 'played': 1, 'field': 1, 'center': 1, '22-yard': 1, 'pitch': 1, 'wicket': 2, 'end': 2, \"'s\": 2, 'basic': 1, 'structure': 1, 'revolves': 1, 'around': 1, 'batsman': 2, 'striking': 1, 'bowled': 1, 'ball': 4, 'bat': 2, 'attempting': 1, 'running': 2, 'wickets': 2, 'hitting': 2, 'boundary': 1, 'four': 1, 'fielding': 1, 'team': 2, 'aims': 1, 'dismiss': 1, 'batsmen': 2, 'catching': 1, 'hit': 1, 'reaching': 1, 'innings': 1, 'turn': 1, 'ends': 1, 'ten': 1, 'dismissed': 1, 'higher': 1, 'match': 1, 'wins': 1, 'matches': 3, 'vary': 1, 'length': 1, 'ranging': 1, 'short': 1, 't20': 1, 'five-day': 1, 'test': 1, 'pinnacle': 1, 'sport': 2, 'global': 1, 'appeal': 1, 'stems': 1, 'combination': 1, 'physical': 1, 'skill': 1, 'strategic': 1, 'tactics': 1, 'cultural': 1, 'significance': 1, 'making': 1, 'truly': 1, 'beloved': 1, 'transcends': 1, 'borders': 1, 'unites': 1, 'people': 1, 'walks': 1, 'life': 1}\n"
     ]
    }
   ],
   "source": [
    "freqTable = dict()\n",
    "for word in words:\n",
    "    word = word.lower()\n",
    "    if word in stopWords:\n",
    "        continue\n",
    "    if word in freqTable:\n",
    "        freqTable[word] += 1\n",
    "    else:\n",
    "        freqTable[word] = 1\n",
    "        \n",
    "print(freqTable)"
   ]
  },
  {
   "cell_type": "markdown",
   "id": "e52bbef0",
   "metadata": {},
   "source": [
    "## Sentence Tokenization"
   ]
  },
  {
   "cell_type": "code",
   "execution_count": 28,
   "id": "92bf90b2",
   "metadata": {},
   "outputs": [
    {
     "name": "stdout",
     "output_type": "stream",
     "text": [
      "['Cricket, a bat-and-ball game, is one of the most popular sports globally, particularly in Commonwealth nations like England, India, Australia, and Pakistan.', 'It involves two teams of eleven players each competing to score more runs than the other.', \"Played on a cricket field at the center of which is a 22-yard pitch with a wicket at each end, the game's basic structure revolves around a batsman striking a bowled ball with a bat, attempting to score runs by running between the wickets or hitting the ball to the boundary for four runs.\", 'The fielding team aims to dismiss the batsmen by hitting the wickets with the ball, catching the ball after it is hit, or running a batsman out before reaching the wicket.', 'Each innings, or turn to bat, ends when ten batsmen are dismissed, and the team with the higher score at the end of the match wins.', 'Cricket matches vary in length, ranging from short T20 matches to five-day Test matches, the pinnacle of the sport.', \"Cricket's global appeal stems from its combination of physical skill, strategic tactics, and cultural significance, making it a truly beloved sport that transcends borders and unites people from all walks of life.\"]\n"
     ]
    }
   ],
   "source": [
    "sentences = sent_tokenize(text)\n",
    "print(sentences)"
   ]
  },
  {
   "cell_type": "code",
   "execution_count": 29,
   "id": "7e3b9829",
   "metadata": {},
   "outputs": [
    {
     "data": {
      "text/plain": [
       "'Cricket, a bat-and-ball game, is one of the most popular sports globally, particularly in Commonwealth nations like England, India, Australia, and Pakistan.'"
      ]
     },
     "execution_count": 29,
     "metadata": {},
     "output_type": "execute_result"
    }
   ],
   "source": [
    "sentences[0]"
   ]
  },
  {
   "cell_type": "markdown",
   "id": "a297f5b2",
   "metadata": {},
   "source": [
    "## Calculating Sentence Importance"
   ]
  },
  {
   "cell_type": "code",
   "execution_count": 30,
   "id": "92f93766",
   "metadata": {
    "scrolled": true
   },
   "outputs": [
    {
     "name": "stdout",
     "output_type": "stream",
     "text": [
      "{'Cricket, a bat-and-ball game, is one of the most popular sports globally, particularly in Commonwealth nations like England, India, Australia, and Pakistan.': 53, 'It involves two teams of eleven players each competing to score more runs than the other.': 21, \"Played on a cricket field at the center of which is a 22-yard pitch with a wicket at each end, the game's basic structure revolves around a batsman striking a bowled ball with a bat, attempting to score runs by running between the wickets or hitting the ball to the boundary for four runs.\": 72, 'The fielding team aims to dismiss the batsmen by hitting the wickets with the ball, catching the ball after it is hit, or running a batsman out before reaching the wicket.': 52, 'Each innings, or turn to bat, ends when ten batsmen are dismissed, and the team with the higher score at the end of the match wins.': 45, 'Cricket matches vary in length, ranging from short T20 matches to five-day Test matches, the pinnacle of the sport.': 43, \"Cricket's global appeal stems from its combination of physical skill, strategic tactics, and cultural significance, making it a truly beloved sport that transcends borders and unites people from all walks of life.\": 55}\n"
     ]
    }
   ],
   "source": [
    "def getsentenceValue():\n",
    "    sentenceValue = dict()\n",
    "    for sentence in sentences:\n",
    "        for word, freq in freqTable.items():\n",
    "            if word in sentence.lower():\n",
    "                if sentence in sentenceValue:\n",
    "                    sentenceValue[sentence] += freq\n",
    "                else:\n",
    "                    sentenceValue[sentence] = freq\n",
    "    return sentenceValue\n",
    "    print(sentenceValue)\n",
    "    \n",
    "sentenceValue = getsentenceValue()\n",
    "print (sentenceValue)"
   ]
  },
  {
   "cell_type": "markdown",
   "id": "86cb357f",
   "metadata": {},
   "source": [
    "## Generating Summary:"
   ]
  },
  {
   "cell_type": "code",
   "execution_count": 31,
   "id": "1e15bebc",
   "metadata": {},
   "outputs": [
    {
     "name": "stdout",
     "output_type": "stream",
     "text": [
      "48\n"
     ]
    }
   ],
   "source": [
    "def getsumValues():\n",
    "    sumValues = 0\n",
    "    for sentence in sentenceValue:\n",
    "        sumValues += sentenceValue[sentence]\n",
    "        \n",
    "    #Average value of a sentence from the Input text\n",
    "    average = int (sumValues / len(sentenceValue))\n",
    "    return average\n",
    "\n",
    "average = getsumValues()\n",
    "print(average)"
   ]
  },
  {
   "cell_type": "code",
   "execution_count": 33,
   "id": "a554dfa7",
   "metadata": {},
   "outputs": [
    {
     "name": "stdout",
     "output_type": "stream",
     "text": [
      " Played on a cricket field at the center of which is a 22-yard pitch with a wicket at each end, the game's basic structure revolves around a batsman striking a bowled ball with a bat, attempting to score runs by running between the wickets or hitting the ball to the boundary for four runs.\n"
     ]
    }
   ],
   "source": [
    "#Storing sentences into our summary based on the sentence score where score is somewhat greater than the average score\n",
    "summary = ''\n",
    "for sentence in sentences:\n",
    "    if (sentence in sentenceValue) and (sentenceValue[sentence] > (1.2* average)):\n",
    "        summary += \" \"+ sentence\n",
    "print(summary)"
   ]
  },
  {
   "cell_type": "code",
   "execution_count": null,
   "id": "aa32f2fa",
   "metadata": {},
   "outputs": [],
   "source": []
  }
 ],
 "metadata": {
  "kernelspec": {
   "display_name": "Python 3 (ipykernel)",
   "language": "python",
   "name": "python3"
  },
  "language_info": {
   "codemirror_mode": {
    "name": "ipython",
    "version": 3
   },
   "file_extension": ".py",
   "mimetype": "text/x-python",
   "name": "python",
   "nbconvert_exporter": "python",
   "pygments_lexer": "ipython3",
   "version": "3.11.5"
  }
 },
 "nbformat": 4,
 "nbformat_minor": 5
}
